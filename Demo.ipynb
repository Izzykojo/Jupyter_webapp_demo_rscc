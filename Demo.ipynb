{
 "cells": [
  {
   "cell_type": "code",
   "execution_count": 1,
   "id": "binding-glance",
   "metadata": {},
   "outputs": [],
   "source": [
    "import warnings\n",
    "warnings.filterwarnings('ignore')\n",
    "\n",
    "import ipywidgets as widgets\n",
    "from IPython.display import display, clear_output"
   ]
  },
  {
   "cell_type": "code",
   "execution_count": 2,
   "id": "informal-powell",
   "metadata": {},
   "outputs": [],
   "source": [
    "#!jupyter nbextension enable --py widgetsnbextension --sys-prefix\n",
    "#!jupyter serverextension enable voila --sys-prefix"
   ]
  },
  {
   "cell_type": "code",
   "execution_count": 3,
   "id": "reflected-speaker",
   "metadata": {},
   "outputs": [
    {
     "data": {
      "application/vnd.jupyter.widget-view+json": {
       "model_id": "ad87bbf8ea354edf91f8497add553905",
       "version_major": 2,
       "version_minor": 0
      },
      "text/plain": [
       "HBox(children=(VBox(children=(Image(value=b'\\xff\\xd8\\xff\\xe0\\x00\\x10JFIF\\x00\\x01\\x01\\x00\\x00\\x01\\x00\\x01\\x00\\x…"
      ]
     },
     "metadata": {},
     "output_type": "display_data"
    }
   ],
   "source": [
    "# Izzy Image Widget\n",
    "\n",
    "file = open(\"israel.jpeg\", \"rb\")\n",
    "image = file.read()\n",
    "\n",
    "image_headline = widgets.Image(\n",
    "                    value=image,\n",
    "                    format='jpeg',\n",
    "                    width='300'\n",
    "                )\n",
    "\n",
    "label_headline = widgets.Label(\n",
    "                    value='Photo by Izzy - RSCC-GSSTI',\n",
    "                    style={'description_width': 'initial'}\n",
    "                )\n",
    "\n",
    "vbox_headline = widgets.VBox([image_headline, label_headline])\n",
    "\n",
    "\n",
    "# stacked right hand side\n",
    "\n",
    "text_0 = widgets.HTML(value=\"<h3>Israel Sarpong-Adu</h3>\")\n",
    "text_1 = widgets.HTML(value=\"<h4>Email: izzykojo@gmail.com</h4>\")\n",
    "text_2= widgets.HTML(value=\"<h4>Address: GE-270-7088</h4>\")\n",
    "text_3= widgets.HTML(value=\"<h4>Phone: 0244702414</h4>\")\n",
    "text_4= widgets.HTML(value=\"<h4>Workplace: RSCC-GSSTI</h4>\")\n",
    "text_5= widgets.HTML(value=\"<h4>Your Role: National Service Person</h4>\")\n",
    "\n",
    "vbox_text = widgets.VBox([text_0, text_1, text_2, text_3, text_4, text_5])\n",
    "\n",
    "\n",
    "page = widgets.HBox([vbox_headline, vbox_text])\n",
    "display(page)"
   ]
  },
  {
   "cell_type": "code",
   "execution_count": 4,
   "id": "2b862b54",
   "metadata": {},
   "outputs": [
    {
     "data": {
      "application/vnd.jupyter.widget-view+json": {
       "model_id": "b9e4d80fff23439386cffd7f370dbe02",
       "version_major": 2,
       "version_minor": 0
      },
      "text/plain": [
       "HBox(children=(VBox(children=(Image(value=b'\\xff\\xd8\\xff\\xe1\\x02\\xb0Exif\\x00\\x00II*\\x00\\x08\\x00\\x00\\x00\\x0c\\x0…"
      ]
     },
     "metadata": {},
     "output_type": "display_data"
    }
   ],
   "source": [
    "# Kweku Image Widget\n",
    "\n",
    "file = open(\"kweku.jpg\", \"rb\")\n",
    "image = file.read()\n",
    "\n",
    "image_headline = widgets.Image(\n",
    "                    value=image,\n",
    "                    format='jpg',\n",
    "                    width='300'\n",
    "                )\n",
    "\n",
    "label_headline = widgets.Label(\n",
    "                    value='Photo by Izzy - RSCC-GSSTI',\n",
    "                    style={'description_width': 'initial'}\n",
    "                )\n",
    "\n",
    "vbox_headline = widgets.VBox([image_headline, label_headline])\n",
    "\n",
    "\n",
    "# stacked right hand side\n",
    "\n",
    "text_0 = widgets.HTML(value=\"<h3>Kweku Afful</h3>\")\n",
    "text_1 = widgets.HTML(value=\"<h4>Email: kwekufidelis@gmail.com</h4>\")\n",
    "text_2= widgets.HTML(value=\"<h4>Address: Adentan SSNIT flats</h4>\")\n",
    "text_3= widgets.HTML(value=\"<h4>Phone: 0557823576</h4>\")\n",
    "text_4= widgets.HTML(value=\"<h4>Workplace: GSSTI</h4>\")\n",
    "text_5= widgets.HTML(value=\"<h4>Your Role: Research Assistant /h4>\")\n",
    "\n",
    "vbox_text = widgets.VBox([text_0, text_1, text_2, text_3, text_4, text_5])\n",
    "\n",
    "\n",
    "page = widgets.HBox([vbox_headline, vbox_text])\n",
    "display(page)"
   ]
  },
  {
   "cell_type": "code",
   "execution_count": 5,
   "id": "10e96b2f",
   "metadata": {},
   "outputs": [
    {
     "data": {
      "application/vnd.jupyter.widget-view+json": {
       "model_id": "7fef8f23ef7d481fb2e1e2c657f0f714",
       "version_major": 2,
       "version_minor": 0
      },
      "text/plain": [
       "HBox(children=(VBox(children=(Image(value=b'\\xff\\xd8\\xff\\xe0\\x00\\x10JFIF\\x00\\x01\\x01\\x01\\x00H\\x00H\\x00\\x00\\xff…"
      ]
     },
     "metadata": {},
     "output_type": "display_data"
    }
   ],
   "source": [
    "# Nusrat Image Widget\n",
    "\n",
    "file = open(\"nusrat.jpg\", \"rb\")\n",
    "image = file.read()\n",
    "\n",
    "image_headline = widgets.Image(\n",
    "                    value=image,\n",
    "                    format='jpg',\n",
    "                    width='300'\n",
    "                )\n",
    "\n",
    "label_headline = widgets.Label(\n",
    "                    value='Photo by Izzy - RSCC-GSSTI',\n",
    "                    style={'description_width': 'initial'}\n",
    "                )\n",
    "\n",
    "vbox_headline = widgets.VBox([image_headline, label_headline])\n",
    "\n",
    "\n",
    "# stacked right hand side\n",
    "\n",
    "text_0 = widgets.HTML(value=\"<h3>Nusrat Hameed</h3>\")\n",
    "text_1 = widgets.HTML(value=\"<h4>Email: nusrathameed551@gmail.com</h4>\")\n",
    "text_2= widgets.HTML(value=\"<h4>Address: GC-030-300</h4>\")\n",
    "text_3= widgets.HTML(value=\"<h4>Phone: 0241334551</h4>\")\n",
    "text_4= widgets.HTML(value=\"<h4>Workplace: GSSTI</h4>\")\n",
    "text_5= widgets.HTML(value=\"<h4>Your Role: National Service Person</h4>\")\n",
    "\n",
    "vbox_text = widgets.VBox([text_0, text_1, text_2, text_3, text_4, text_5])\n",
    "\n",
    "\n",
    "page = widgets.HBox([vbox_headline, vbox_text])\n",
    "display(page)"
   ]
  },
  {
   "cell_type": "code",
   "execution_count": 6,
   "id": "8531807e",
   "metadata": {},
   "outputs": [
    {
     "data": {
      "application/vnd.jupyter.widget-view+json": {
       "model_id": "c909cde47b674fc19a71fab773f588b3",
       "version_major": 2,
       "version_minor": 0
      },
      "text/plain": [
       "HBox(children=(VBox(children=(Image(value=b'\\xff\\xd8\\xff\\xe13\\xceExif\\x00\\x00MM\\x00*\\x00\\x00\\x00\\x08\\x00\\x10\\x…"
      ]
     },
     "metadata": {},
     "output_type": "display_data"
    }
   ],
   "source": [
    "# Mike Image Widget\n",
    "\n",
    "file = open(\"mike.jpg\", \"rb\")\n",
    "image = file.read()\n",
    "\n",
    "image_headline = widgets.Image(\n",
    "                    value=image,\n",
    "                    format='jpg',\n",
    "                    width='300'\n",
    "                )\n",
    "\n",
    "label_headline = widgets.Label(\n",
    "                    value='Photo by Izzy - RSCC-GSSTI',\n",
    "                    style={'description_width': 'initial'}\n",
    "                )\n",
    "\n",
    "vbox_headline = widgets.VBox([image_headline, label_headline])\n",
    "\n",
    "\n",
    "# stacked right hand side\n",
    "\n",
    "text_0 = widgets.HTML(value=\"<h3>Michael Owusu Agyei</h3>\")\n",
    "text_1 = widgets.HTML(value=\"<h4>Email: micagyeiowu4002021@gmail.com</h4>\")\n",
    "text_2= widgets.HTML(value=\"<h4>Address: P.O BOX 39, NSAWAM</h4>\")\n",
    "text_3= widgets.HTML(value=\"<h4>Phone: 0550656514</h4>\")\n",
    "text_4= widgets.HTML(value=\"<h4>Workplace: GSSTI</h4>\")\n",
    "text_5= widgets.HTML(value=\"<h4>Your Role: National Service Person</h4>\")\n",
    "\n",
    "vbox_text = widgets.VBox([text_0, text_1, text_2, text_3, text_4, text_5])\n",
    "\n",
    "\n",
    "page = widgets.HBox([vbox_headline, vbox_text])\n",
    "display(page)"
   ]
  },
  {
   "cell_type": "code",
   "execution_count": null,
   "id": "8bf847c9",
   "metadata": {},
   "outputs": [],
   "source": []
  }
 ],
 "metadata": {
  "kernelspec": {
   "display_name": "Python 3 (ipykernel)",
   "language": "python",
   "name": "python3"
  },
  "language_info": {
   "codemirror_mode": {
    "name": "ipython",
    "version": 3
   },
   "file_extension": ".py",
   "mimetype": "text/x-python",
   "name": "python",
   "nbconvert_exporter": "python",
   "pygments_lexer": "ipython3",
   "version": "3.9.12"
  }
 },
 "nbformat": 4,
 "nbformat_minor": 5
}
